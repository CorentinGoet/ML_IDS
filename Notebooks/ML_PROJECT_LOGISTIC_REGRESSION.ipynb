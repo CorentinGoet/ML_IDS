{
  "nbformat": 4,
  "nbformat_minor": 0,
  "metadata": {
    "colab": {
      "provenance": []
    },
    "kernelspec": {
      "name": "python3",
      "display_name": "Python 3"
    },
    "language_info": {
      "name": "python"
    }
  },
  "cells": [
    {
      "cell_type": "markdown",
      "source": [
        "# CSCI 4155 Machine Learning - Group Project\n",
        "\n",
        "---\n",
        "Group 13:\n",
        "- [Corentin Goetghebeur](cr453043@dal.ca) - B00945496\n",
        "- [Gabriel Marchand](gb614643@dal.ca) - B00929349\n",
        "- [Rinchen Toh](rn835427@dal.ca) - B00944448\n",
        "---\n",
        "\n",
        "This notebook is part of a group project taking place during the fall semester of 2022 in the CSCI 4155 Machine Learning class in Dalhousie University (NS, Canada).\n",
        "\n",
        "This project aims to compare different machine learning algorithms to detect network intrusions using the KDD Cup'99 dataset.\n",
        "\n",
        "---\n",
        "\n",
        "This notebook contains the classification using Logistic Regression."
      ],
      "metadata": {
        "id": "mafY4-DgFxmU"
      }
    },
    {
      "cell_type": "markdown",
      "source": [
        "# Logistic Regression"
      ],
      "metadata": {
        "id": "eJMkraBNF81H"
      }
    },
    {
      "cell_type": "code",
      "execution_count": null,
      "metadata": {
        "id": "mRELRYYtFnNg"
      },
      "outputs": [],
      "source": [
        "# Importing libraries\n",
        "\n",
        "import numpy as np\n",
        "import matplotlib.pyplot as plt\n",
        "import pandas as pd\n",
        "import seaborn as sns"
      ]
    },
    {
      "cell_type": "markdown",
      "source": [
        "## Loading Datasets"
      ],
      "metadata": {
        "id": "cJFfEtATF6Q_"
      }
    },
    {
      "cell_type": "code",
      "source": [
        "# loading datasets\n",
        "X_train = pd.read_csv(\"kdd99_training_data.csv\")\n",
        "X_test = pd.read_csv(\"kdd99_testing_data.csv\")\n",
        "y_train = pd.read_csv(\"kdd99_training_labels.csv\")['label']\n",
        "y_test = pd.read_csv(\"kdd99_testing_labels.csv\")['label']\n",
        "\n",
        "print(f\"Shape of training dataset: {X_train.shape}\")\n",
        "print(f\"Shape of testing dataset: {X_test.shape}\")\n",
        "print(f\"Shape of training labels: {y_train.shape}\")\n",
        "print(f\"Shape of testing labels: {y_test.shape}\")"
      ],
      "metadata": {
        "colab": {
          "base_uri": "https://localhost:8080/"
        },
        "id": "BWHR4FSiGOQI",
        "outputId": "be6519d7-40a0-42d1-a114-1cf21c11ca87"
      },
      "execution_count": null,
      "outputs": [
        {
          "output_type": "stream",
          "name": "stdout",
          "text": [
            "Shape of training dataset: (370515, 32)\n",
            "Shape of testing dataset: (123505, 32)\n",
            "Shape of training labels: (370515,)\n",
            "Shape of testing labels: (123505,)\n"
          ]
        }
      ]
    },
    {
      "cell_type": "code",
      "source": [
        "# loading sampled\n",
        "#X_train_sampled = pd.read_csv(\"sampled_kdd99_training_data.csv\")\n",
        "#X_test_sampled = pd.read_csv(\"sampled_kdd99_testing_data.csv\")\n",
        "#y_train_sampled = pd.read_csv(\"sampled_kdd99_training_labels.csv\")['label']\n",
        "#y_test_sampled = pd.read_csv(\"sampled_kdd99_testing_labels.csv\")['label']"
      ],
      "metadata": {
        "id": "fYy8bLRPWn27"
      },
      "execution_count": null,
      "outputs": []
    },
    {
      "cell_type": "markdown",
      "source": [
        "## Scaling"
      ],
      "metadata": {
        "id": "m5OmJwg-G1Tv"
      }
    },
    {
      "cell_type": "code",
      "source": [
        "# scaling\n",
        "from sklearn.preprocessing import MinMaxScaler\n",
        "\n",
        "scaler = MinMaxScaler()\n",
        "X_train = scaler.fit_transform(X_train)\n",
        "X_test = scaler.transform(X_test)"
      ],
      "metadata": {
        "id": "QOwQJhDZG2uA"
      },
      "execution_count": null,
      "outputs": []
    },
    {
      "cell_type": "markdown",
      "source": [
        "## Model Training"
      ],
      "metadata": {
        "id": "pplvZdgkG3E_"
      }
    },
    {
      "cell_type": "code",
      "source": [
        "from sklearn.linear_model import LogisticRegression\n",
        "\n",
        "model = LogisticRegression(max_iter=1_200_000)\n",
        "model.fit(X_train, y_train)"
      ],
      "metadata": {
        "colab": {
          "base_uri": "https://localhost:8080/"
        },
        "id": "58aRG-3nG4sh",
        "outputId": "61a40fe9-bd20-4733-f021-b59092d35ad0"
      },
      "execution_count": null,
      "outputs": [
        {
          "output_type": "execute_result",
          "data": {
            "text/plain": [
              "LogisticRegression(max_iter=1200000)"
            ]
          },
          "metadata": {},
          "execution_count": 8
        }
      ]
    },
    {
      "cell_type": "markdown",
      "source": [
        "Now, we can predict using the testing data."
      ],
      "metadata": {
        "id": "CfQ6mgBhK2k8"
      }
    },
    {
      "cell_type": "code",
      "source": [
        "y_predicted = model.predict(X_test)\n",
        "\n",
        "print(f\"Prediction score on the training data: {model.score(X_train, y_train)}\")\n",
        "print(f\"Prediction score on the testing data: {model.score(X_test, y_test)}\")"
      ],
      "metadata": {
        "colab": {
          "base_uri": "https://localhost:8080/"
        },
        "id": "5M8BSlZxK2Hz",
        "outputId": "0967db40-3339-4e0c-9a9a-6fcf30921aab"
      },
      "execution_count": null,
      "outputs": [
        {
          "output_type": "stream",
          "name": "stdout",
          "text": [
            "Prediction score on the training data: 0.9928963739659663\n",
            "Prediction score on the testing data: 0.9928909760738431\n"
          ]
        }
      ]
    },
    {
      "cell_type": "markdown",
      "source": [
        "## Model Evaluation"
      ],
      "metadata": {
        "id": "7xwG-vVdG5Uu"
      }
    },
    {
      "cell_type": "code",
      "source": [
        "from sklearn.metrics import confusion_matrix, classification_report\n",
        "\n",
        "conf_matrix = confusion_matrix(y_test, y_predicted)\n",
        "report = classification_report(y_test, y_predicted)\n",
        "\n",
        "print(report)"
      ],
      "metadata": {
        "colab": {
          "base_uri": "https://localhost:8080/"
        },
        "id": "z8VU9P4uG8ZY",
        "outputId": "538c4da2-0da1-44ae-ae88-c51cac851183"
      },
      "execution_count": null,
      "outputs": [
        {
          "output_type": "stream",
          "name": "stdout",
          "text": [
            "              precision    recall  f1-score   support\n",
            "\n",
            "         dos       1.00      0.99      1.00     97676\n",
            "      normal       0.97      1.00      0.98     24482\n",
            "       probe       0.96      0.91      0.93      1056\n",
            "         r2l       0.81      0.56      0.66       279\n",
            "         u2r       1.00      0.33      0.50        12\n",
            "\n",
            "    accuracy                           0.99    123505\n",
            "   macro avg       0.95      0.76      0.82    123505\n",
            "weighted avg       0.99      0.99      0.99    123505\n",
            "\n"
          ]
        }
      ]
    },
    {
      "cell_type": "code",
      "source": [
        "# building annotations\n",
        "y_labels = ['dos', 'normal', 'probe', 'r2l', 'u2r']\n",
        "labels = []\n",
        "for i in range(5):\n",
        "  for j in range(5):\n",
        "    labels.append(str(f\"Real {y_labels[i]}\\nPredicted {y_labels[j]}\\n{conf_matrix[i, j]}\"))\n",
        "\n",
        "labels = np.asarray(labels).reshape(5, 5)\n",
        "\n",
        "\n",
        "# confusion matrix visualization\n",
        "\n",
        "plt.figure(figsize=(12, 8))\n",
        "plt.title(\"Confusion Matrix\")\n",
        "sns.heatmap(conf_matrix, annot=labels, cmap='crest', fmt='')\n",
        "plt.show()"
      ],
      "metadata": {
        "colab": {
          "base_uri": "https://localhost:8080/",
          "height": 476
        },
        "id": "4vZ1UEHrNxnV",
        "outputId": "b31c7541-2c06-4db2-f871-32b974281866"
      },
      "execution_count": null,
      "outputs": [
        {
          "output_type": "display_data",
          "data": {
            "text/plain": [
              "<Figure size 864x576 with 2 Axes>"
            ],
            "image/png": "[encoded data removed]"
          },
          "metadata": {
            "needs_background": "light"
          }
        }
      ]
    },
    {
      "cell_type": "markdown",
      "source": [
        "## Conclusion"
      ],
      "metadata": {
        "id": "-PeVOxsNG8wj"
      }
    },
    {
      "cell_type": "markdown",
      "source": [
        "The global performance for this algorithm is very good:\n",
        "- accuracy: 0.99\n",
        "- precision weighted average 0.99\n",
        "- recall weighted average: 0.99\n",
        "- f1-score weighted average: 0.99\n",
        "\n",
        "However, it has a low recall on the R2L label (56%) and a very low recall on the U2R label (33%)."
      ],
      "metadata": {
        "id": "-nvd-lOBb5rD"
      }
    }
  ]
}