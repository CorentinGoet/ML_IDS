{
  "nbformat": 4,
  "nbformat_minor": 0,
  "metadata": {
    "colab": {
      "provenance": []
    },
    "kernelspec": {
      "name": "python3",
      "display_name": "Python 3"
    },
    "language_info": {
      "name": "python"
    }
  },
  "cells": [
    {
      "cell_type": "markdown",
      "source": [
        "# CSCI 4155 Machine Learning - Group Project\n",
        "\n",
        "---\n",
        "Group 13:\n",
        "- [Corentin Goetghebeur](cr453043@dal.ca) - B00945496\n",
        "- [Gabriel Marchand](gb614643@dal.ca) - B00929349\n",
        "- [Rinchen Toh](rn835427@dal.ca) - B00944448\n",
        "---\n",
        "\n",
        "This notebook is part of a group project taking place during the fall semester of 2022 in the CSCI 4155 Machine Learning class in Dalhousie University (NS, Canada).\n",
        "\n",
        "This project aims to compare different machine learning algorithms to detect network intrusions using the KDD Cup'99 dataset.\n",
        "\n",
        "---\n",
        "\n",
        "This notbook contains analysis of the dataset, data visualization and preprocessing."
      ],
      "metadata": {
        "id": "lDhZkWvGBY-I"
      }
    },
    {
      "cell_type": "code",
      "execution_count": 25,
      "metadata": {
        "id": "MAGHxYLmBUUA"
      },
      "outputs": [],
      "source": [
        "# Importing libraries\n",
        "import numpy as np\n",
        "import matplotlib.pyplot as plt\n",
        "import seaborn as sns\n",
        "import pandas as pd"
      ]
    },
    {
      "cell_type": "markdown",
      "source": [
        "## Dataset"
      ],
      "metadata": {
        "id": "pFrAsXijDWhJ"
      }
    },
    {
      "cell_type": "markdown",
      "source": [
        "For this project, we will use the KDD99 dataset, a network traffic dataset widely used for academic and research purposes.\n",
        "\n",
        "This dataset has 494021 rows and 42 columns. The 42 features can be split in 3 categories:\n",
        "\n",
        "- Basic features of network connection\n",
        "- Content features suggested by domain knowledge\n",
        "- Traffic features computed over a 2 seconds window."
      ],
      "metadata": {
        "id": "ymJ0YboeEzuI"
      }
    },
    {
      "cell_type": "markdown",
      "source": [
        "**Basic features: (9 features)**\n",
        "\n",
        "| Feature | Type | Info |\n",
        "| --- | --- | --- |\n",
        "| duration | numerical | length (in seconds) of the connections|\n",
        "| protocol_type | categorical | type of the protocol used (tcp, udp) |\n",
        "| service | categorical | network service on the destination (http, telnet, ...)|\n",
        "| src_bytes | numerical | number of data bytes from source to destination |\n",
        "| dst_bytes | numerical | number of data bytes from destination to source |\n",
        "| flag | categorical | normal or error status of the connection |\n",
        "| land | categorical | 1 if connection is from / to the same host or port, 0 otherwise |\n",
        "| wrong_fragment | numerical | number of \"wrong\" fragments|\n",
        "| urgent | numerical | number of urgent packets |\n"
      ],
      "metadata": {
        "id": "poDAvkDqfZyR"
      }
    },
    {
      "cell_type": "markdown",
      "source": [
        "**Content features: (12 features)**\n",
        "\n",
        "| Feature | Type | Info |\n",
        "| --- | --- | --- |\n",
        "| hot | numerical | Number of \"hot\" indicators |\n",
        "| num_failed_login | numerical | number of failed login attempts |\n",
        "| logged_in | categorical | 1 if successfully logged in, 0 otherwise |\n",
        "| num_compromised | numerical | number of \"compromised\" conditions |\n",
        "| root_shell | categorical | 1 if root shell is obtained, 0 otherwise |\n",
        "| su_attempted | categorical | 1 if \"su root\" attempted, 0 otherwise |\n",
        "| num_root | numerical | number of 'root' accesses |\n",
        "| num_file_creations | numerical | number of file creation operations |\n",
        "| num_shell | numerical | number of shell prompts |\n",
        "| num_outbound_cmds | numerical | number of outbound commands in an ftp session |\n",
        "| is_hot_login | categorical | 1 if the login belongs to the 'hot' list, 0 otherwise |\n",
        "| is_guest_login |categorical | 1 if he login is a 'guest' login, 0 otherwise|\n",
        "\n"
      ],
      "metadata": {
        "id": "IKDiyjkZinB_"
      }
    },
    {
      "cell_type": "markdown",
      "source": [
        "**Traffic features: (20 features)**\n",
        "\n",
        "These values are computed over a 2 second window.\n",
        "\n",
        "| Feature | Type | Info |\n",
        "| --- | --- | --- |\n",
        "| count | numerical | number of connections to the same host as the current connection in the past 2 seconds |\n",
        "| - | - | *(following are for same host connections)* |\n",
        "| serror_rate | numerical | % of connections that have \"SYN\" errors |\n",
        "| rerror_rate | numerical | % of connections that have \"REJ\" errors |\n",
        "| same_srv_rate | numerical | % of connections to the same service |\n",
        "| diff_srv_rate | numerical | % of connections to a different service |\n",
        "| srv_count | numerical | number of connections to the same service |\n",
        "| - | - | *(the following are for same service connection)* |\n",
        "| srv_serror_rate | numerical | % of connections that have \"SYN\" errors |\n",
        "| srv_serror_rate | numerical | % of connections that have \"REJ\" errors |\n",
        "| srv_diff_host_rate | numerical | % of connections to a different host |\n",
        "| dst_host_count | numerical | number of connections to the same destination host|\n",
        "| dst_host_srv_count | numerical | number of connections to the same service / port number |\n",
        "| dst_host_same_srv_rate | numerical | % of connections to the same service |\n",
        "| dst_host_diff_srv_rate | numerical | % of connections to a different service |\n",
        "| dst_host_same_src_port_rate | numerical | % of connections to the same service/port number |\n",
        "| dst_host_diff_src_port_rate | numerical | % of connections to a different service/port number |\n",
        "| dst_host_serror_rate| numerical | % of connections with \"SYN\" error (same host) |\n",
        "| dst_host_rerror_rate | numerical | % of connections with \"REJ\" error (same host) |\n",
        "| dst_host_srv_serror_rate | numerical | % of connections to with \"SYN\" error among (same service) |\n",
        "| dst_host_srv_rerror_rate | numerical | % of connections to with \"REJ\" error among (same service) |\n"
      ],
      "metadata": {
        "id": "hMjgtkQ-DZLG"
      }
    },
    {
      "cell_type": "markdown",
      "source": [
        "**Label:**\n",
        "The label column (categorical) contains either 'normal' or the name of the attack."
      ],
      "metadata": {
        "id": "-s2h1ulKSAcE"
      }
    },
    {
      "cell_type": "code",
      "source": [
        "# loading dataset\n",
        "# from google.colab import drive\n",
        "# drive.mount('/content/gdrive')\n",
        "df = pd.read_csv(\"kddcup99_csv.csv\")"
      ],
      "metadata": {
        "id": "t8TSgfT5DuFI"
      },
      "execution_count": 26,
      "outputs": []
    },
    {
      "cell_type": "markdown",
      "source": [
        "## Cleaning Dataset\n",
        "\n",
        "TODO:\n",
        "- fixing typos in the column names\n",
        "- grouping in the label column\n",
        "- "
      ],
      "metadata": {
        "id": "vlZTsK-DE5_N"
      }
    },
    {
      "cell_type": "code",
      "source": [
        "# dataset info\n",
        "print(f\"Dataset information:\\n{df.info()}\")"
      ],
      "metadata": {
        "id": "VCeO2qYROHln",
        "colab": {
          "base_uri": "https://localhost:8080/"
        },
        "outputId": "25c3429e-efff-4a9c-f74d-8481b4e930f3"
      },
      "execution_count": 27,
      "outputs": [
        {
          "output_type": "stream",
          "name": "stdout",
          "text": [
            "<class 'pandas.core.frame.DataFrame'>\n",
            "RangeIndex: 494020 entries, 0 to 494019\n",
            "Data columns (total 42 columns):\n",
            " #   Column                       Non-Null Count   Dtype  \n",
            "---  ------                       --------------   -----  \n",
            " 0   duration                     494020 non-null  int64  \n",
            " 1   protocol_type                494020 non-null  object \n",
            " 2   service                      494020 non-null  object \n",
            " 3   flag                         494020 non-null  object \n",
            " 4   src_bytes                    494020 non-null  int64  \n",
            " 5   dst_bytes                    494020 non-null  int64  \n",
            " 6   land                         494020 non-null  int64  \n",
            " 7   wrong_fragment               494020 non-null  int64  \n",
            " 8   urgent                       494020 non-null  int64  \n",
            " 9   hot                          494020 non-null  int64  \n",
            " 10  num_failed_logins            494020 non-null  int64  \n",
            " 11  logged_in                    494020 non-null  int64  \n",
            " 12  lnum_compromised             494020 non-null  int64  \n",
            " 13  lroot_shell                  494020 non-null  int64  \n",
            " 14  lsu_attempted                494020 non-null  int64  \n",
            " 15  lnum_root                    494020 non-null  int64  \n",
            " 16  lnum_file_creations          494020 non-null  int64  \n",
            " 17  lnum_shells                  494020 non-null  int64  \n",
            " 18  lnum_access_files            494020 non-null  int64  \n",
            " 19  lnum_outbound_cmds           494020 non-null  int64  \n",
            " 20  is_host_login                494020 non-null  int64  \n",
            " 21  is_guest_login               494020 non-null  int64  \n",
            " 22  count                        494020 non-null  int64  \n",
            " 23  srv_count                    494020 non-null  int64  \n",
            " 24  serror_rate                  494020 non-null  float64\n",
            " 25  srv_serror_rate              494020 non-null  float64\n",
            " 26  rerror_rate                  494020 non-null  float64\n",
            " 27  srv_rerror_rate              494020 non-null  float64\n",
            " 28  same_srv_rate                494020 non-null  float64\n",
            " 29  diff_srv_rate                494020 non-null  float64\n",
            " 30  srv_diff_host_rate           494020 non-null  float64\n",
            " 31  dst_host_count               494020 non-null  int64  \n",
            " 32  dst_host_srv_count           494020 non-null  int64  \n",
            " 33  dst_host_same_srv_rate       494020 non-null  float64\n",
            " 34  dst_host_diff_srv_rate       494020 non-null  float64\n",
            " 35  dst_host_same_src_port_rate  494020 non-null  float64\n",
            " 36  dst_host_srv_diff_host_rate  494020 non-null  float64\n",
            " 37  dst_host_serror_rate         494020 non-null  float64\n",
            " 38  dst_host_srv_serror_rate     494020 non-null  float64\n",
            " 39  dst_host_rerror_rate         494020 non-null  float64\n",
            " 40  dst_host_srv_rerror_rate     494020 non-null  float64\n",
            " 41  label                        494020 non-null  object \n",
            "dtypes: float64(15), int64(23), object(4)\n",
            "memory usage: 158.3+ MB\n",
            "Dataset information:\n",
            "None\n"
          ]
        }
      ]
    },
    {
      "cell_type": "markdown",
      "source": [
        "The dataset does not have any null values."
      ],
      "metadata": {
        "id": "3cLRfvLTTByn"
      }
    },
    {
      "cell_type": "markdown",
      "source": [
        "### Grouping Labels\n",
        "\n",
        "For this project, we will only predict main categories of attacks:\n",
        "- DOS: denial of service (syn flood)\n",
        "- R2L: Remote to Local - unauthorized access from a remote machine (guessing password)\n",
        "- U2R: User to Root - unauthorized access to superuser privileges (buffer overflows)\n",
        "- Probbing: surveillance, port scanning\n",
        "\n",
        "There are originally 22 attack types (+ normal), we need to group those into the 4 categories. This grouping of attacks is presented in the initial publication of the dataset.\n"
      ],
      "metadata": {
        "id": "8SiPA79PSmwD"
      }
    },
    {
      "cell_type": "code",
      "source": [
        "# Different attacl types\n",
        "print(f\"Original attack types:\\n{df['label'].value_counts()}\")"
      ],
      "metadata": {
        "id": "4uDh547UE9Vi",
        "colab": {
          "base_uri": "https://localhost:8080/"
        },
        "outputId": "c3f45a07-cb86-4cef-d7f5-c65b6f542715"
      },
      "execution_count": 28,
      "outputs": [
        {
          "output_type": "stream",
          "name": "stdout",
          "text": [
            "Original attack types:\n",
            "smurf              280790\n",
            "neptune            107201\n",
            "normal              97277\n",
            "back                 2203\n",
            "satan                1589\n",
            "ipsweep              1247\n",
            "portsweep            1040\n",
            "warezclient          1020\n",
            "teardrop              979\n",
            "pod                   264\n",
            "nmap                  231\n",
            "guess_passwd           53\n",
            "buffer_overflow        30\n",
            "land                   21\n",
            "warezmaster            20\n",
            "imap                   12\n",
            "rootkit                10\n",
            "loadmodule              9\n",
            "ftp_write               8\n",
            "multihop                7\n",
            "phf                     4\n",
            "perl                    3\n",
            "spy                     2\n",
            "Name: label, dtype: int64\n"
          ]
        }
      ]
    },
    {
      "cell_type": "code",
      "source": [
        "# visualization of labels before grouping\n",
        "\n",
        "plt.figure(figsize=(18, 6))\n",
        "plt.title(\"Distribution of labels before grouping\")\n",
        "sns.countplot(data=df, x='label')\n",
        "plt.show()"
      ],
      "metadata": {
        "colab": {
          "base_uri": "https://localhost:8080/",
          "height": 405
        },
        "id": "EXnbWDixNZni",
        "outputId": "73664157-ebdc-4354-b316-892f92a31807"
      },
      "execution_count": 29,
      "outputs": [
        {
          "output_type": "display_data",
          "data": {
            "text/plain": [
              "<Figure size 1296x432 with 1 Axes>"
            ],
            "image/png": "[encoded data removed]"
          },
          "metadata": {
            "needs_background": "light"
          }
        }
      ]
    },
    {
      "cell_type": "code",
      "source": [
        "# Grouping labels\n",
        "attacks = {\n",
        "  'back': 'dos',\n",
        "  'buffer_overflow': 'u2r',\n",
        "  'ftp_write': 'r2l',\n",
        "  'guess_passwd': 'r2l',\n",
        "  'imap': 'r2l',\n",
        "  'ipsweep': 'probe',\n",
        "  'land': 'dos',\n",
        "  'loadmodule': 'u2r',\n",
        "  'multihop': 'r2l',\n",
        "  'neptune': 'dos',\n",
        "  'nmap': 'probe',\n",
        "  'perl': 'u2r',\n",
        "  'phf': 'r2l',\n",
        "  'pod': 'dos',\n",
        "  'portsweep': 'probe',\n",
        "  'rootkit': 'u2r',\n",
        "  'satan': 'probe',\n",
        "  'smurf': 'dos',\n",
        "  'spy': 'r2l',\n",
        "  'teardrop': 'dos',\n",
        "  'warezclient': 'r2l',\n",
        "  'warezmaster': 'r2l'\n",
        "}\n",
        "\n",
        "df['label'].replace(attacks, inplace=True)\n",
        "print(f\"Grouped attack types:\\n{df['label'].value_counts()}\")"
      ],
      "metadata": {
        "id": "oiylD_gzV10V",
        "colab": {
          "base_uri": "https://localhost:8080/"
        },
        "outputId": "ff8b87e0-eaf0-4c4a-ceef-da0ad7d7983b"
      },
      "execution_count": 30,
      "outputs": [
        {
          "output_type": "stream",
          "name": "stdout",
          "text": [
            "Grouped attack types:\n",
            "dos       391458\n",
            "normal     97277\n",
            "probe       4107\n",
            "r2l         1126\n",
            "u2r           52\n",
            "Name: label, dtype: int64\n"
          ]
        }
      ]
    },
    {
      "cell_type": "code",
      "source": [
        "# visualization of labels after grouping\n",
        "\n",
        "plt.figure(figsize=(12, 6))\n",
        "plt.title(\"Distribution of grouped labels\")\n",
        "sns.countplot(data=df, x='label')\n",
        "plt.show()"
      ],
      "metadata": {
        "colab": {
          "base_uri": "https://localhost:8080/",
          "height": 404
        },
        "id": "o1TFuCogOJPK",
        "outputId": "82246cfc-9cfe-4807-8924-b018479ce7d3"
      },
      "execution_count": 31,
      "outputs": [
        {
          "output_type": "display_data",
          "data": {
            "text/plain": [
              "<Figure size 864x432 with 1 Axes>"
            ],
            "image/png": "[encoded data removed]"
          },
          "metadata": {
            "needs_background": "light"
          }
        }
      ]
    },
    {
      "cell_type": "markdown",
      "source": [
        "From the plot, we can see that the labels do not have the same amount of rows. This is due to the nature of each attack.\n",
        "\n",
        "The DOS attack has the majority of rows, even more than the 'normal' behaviour. This makes sense because the denial of service attacks work by flooding the network with requests to prevent regular traffic.\n",
        "\n",
        "Then comes the normal behaviour, this one has a lot more rows than the attacks (except the DOS attack) because most people do not try to attack the network.\n",
        "\n",
        "The R2L and U2R attacks have very few rows because they can usually be achieved with a single connection."
      ],
      "metadata": {
        "id": "SIp_CKTgZls4"
      }
    },
    {
      "cell_type": "markdown",
      "source": [
        "### Categorical features"
      ],
      "metadata": {
        "id": "-Fo_DHtfCbUA"
      }
    },
    {
      "cell_type": "code",
      "source": [
        "categorical_cols = [col for col in df.columns if df[col].dtype == 'object']\n",
        "print(f\"Categorical features: {categorical_cols}\")\n",
        "\n",
        "# note that label is not a feature in this case, it is our class (i.e. output) \n",
        "# which we want to be categorical hence we did not map it into numerical variable"
      ],
      "metadata": {
        "id": "69cSzIYOChu5",
        "colab": {
          "base_uri": "https://localhost:8080/"
        },
        "outputId": "ef3713b8-663d-4394-8bde-ac5835cfd7bf"
      },
      "execution_count": 32,
      "outputs": [
        {
          "output_type": "stream",
          "name": "stdout",
          "text": [
            "Categorical features: ['protocol_type', 'service', 'flag', 'label']\n"
          ]
        }
      ]
    },
    {
      "cell_type": "markdown",
      "source": [
        "We need to map those features to have only numerical values."
      ],
      "metadata": {
        "id": "LiTyQr-BkiZq"
      }
    },
    {
      "cell_type": "code",
      "source": [
        "# replacing protocol_type\n",
        "df['protocol_type'].unique()"
      ],
      "metadata": {
        "id": "HZ0iooQ6kgyh",
        "colab": {
          "base_uri": "https://localhost:8080/"
        },
        "outputId": "72d96114-008d-4d9f-f7d8-a555dc6a9f03"
      },
      "execution_count": 33,
      "outputs": [
        {
          "output_type": "execute_result",
          "data": {
            "text/plain": [
              "array(['tcp', 'udp', 'icmp'], dtype=object)"
            ]
          },
          "metadata": {},
          "execution_count": 33
        }
      ]
    },
    {
      "cell_type": "code",
      "source": [
        "protocol_types_dict = {\n",
        "    'tcp': 0,\n",
        "    'udp': 1,\n",
        "    'icmp': 2\n",
        "}\n",
        "\n",
        "df['protocol_type'].replace(protocol_types_dict, inplace=True)\n",
        "\n",
        "print(f\"Mapped protocol types:{df['protocol_type'].unique()}\")"
      ],
      "metadata": {
        "id": "k3nt-JAbnbjc",
        "colab": {
          "base_uri": "https://localhost:8080/"
        },
        "outputId": "ce5685df-48c3-4143-f64d-b544590c6552"
      },
      "execution_count": 34,
      "outputs": [
        {
          "output_type": "stream",
          "name": "stdout",
          "text": [
            "Mapped protocol types:[0 1 2]\n"
          ]
        }
      ]
    },
    {
      "cell_type": "markdown",
      "source": [
        "For the *flag* feature:"
      ],
      "metadata": {
        "id": "ypHviDDwoCNk"
      }
    },
    {
      "cell_type": "code",
      "source": [
        "print(f\"Possible values for flag:\\n{df['flag'].unique()}\")"
      ],
      "metadata": {
        "id": "Ef6Ie9DeoB9P",
        "colab": {
          "base_uri": "https://localhost:8080/"
        },
        "outputId": "bc322e04-a8d4-4bae-a034-073e92c5abe3"
      },
      "execution_count": 35,
      "outputs": [
        {
          "output_type": "stream",
          "name": "stdout",
          "text": [
            "Possible values for flag:\n",
            "['SF' 'S1' 'REJ' 'S2' 'S0' 'S3' 'RSTO' 'RSTR' 'RSTOS0' 'OTH' 'SH']\n"
          ]
        }
      ]
    },
    {
      "cell_type": "code",
      "source": [
        "flag_map = {\n",
        "    'SF': 0, 'S1': 1, 'REJ': 2,\n",
        "    'S2': 3, 'S0': 4, 'S3': 5,\n",
        "    'RSTO': 6, 'RSTR': 7,  'RSTOS0': 8, \n",
        "    'OTH': 9, 'SH': 10\n",
        "}\n",
        "\n",
        "df['flag'].replace(flag_map, inplace=True)\n",
        "\n",
        "print(f\"Mapped flags:\\n{df['flag'].unique()}\")"
      ],
      "metadata": {
        "id": "yK1EySVgokbp",
        "colab": {
          "base_uri": "https://localhost:8080/"
        },
        "outputId": "1ec90c67-85a3-4da1-bb66-5171ed366fb3"
      },
      "execution_count": 36,
      "outputs": [
        {
          "output_type": "stream",
          "name": "stdout",
          "text": [
            "Mapped flags:\n",
            "[ 0  1  2  3  4  5  6  7  8  9 10]\n"
          ]
        }
      ]
    },
    {
      "cell_type": "markdown",
      "source": [
        "Now for service:"
      ],
      "metadata": {
        "id": "sQn0_pfvpZz3"
      }
    },
    {
      "cell_type": "code",
      "source": [
        "print(f\"Possible values for service:\\n{df['service'].unique()}\")"
      ],
      "metadata": {
        "id": "w_FHObz8pdZu",
        "colab": {
          "base_uri": "https://localhost:8080/"
        },
        "outputId": "c1fed4d8-e8a1-47e0-80a3-35f318543133"
      },
      "execution_count": 37,
      "outputs": [
        {
          "output_type": "stream",
          "name": "stdout",
          "text": [
            "Possible values for service:\n",
            "['http' 'smtp' 'finger' 'domain_u' 'auth' 'telnet' 'ftp' 'eco_i' 'ntp_u'\n",
            " 'ecr_i' 'other' 'private' 'pop_3' 'ftp_data' 'rje' 'time' 'mtp' 'link'\n",
            " 'remote_job' 'gopher' 'ssh' 'name' 'whois' 'domain' 'login' 'imap4'\n",
            " 'daytime' 'ctf' 'nntp' 'shell' 'IRC' 'nnsp' 'http_443' 'exec' 'printer'\n",
            " 'efs' 'courier' 'uucp' 'klogin' 'kshell' 'echo' 'discard' 'systat'\n",
            " 'supdup' 'iso_tsap' 'hostnames' 'csnet_ns' 'pop_2' 'sunrpc' 'uucp_path'\n",
            " 'netbios_ns' 'netbios_ssn' 'netbios_dgm' 'sql_net' 'vmnet' 'bgp' 'Z39_50'\n",
            " 'ldap' 'netstat' 'urh_i' 'X11' 'urp_i' 'pm_dump' 'tftp_u' 'tim_i' 'red_i']\n"
          ]
        }
      ]
    },
    {
      "cell_type": "code",
      "source": [
        "service_map = {}\n",
        "for i, service in enumerate(df['service'].unique()):\n",
        "  service_map[service] = i\n",
        "\n",
        "df['service'].replace(service_map, inplace=True)\n",
        "\n",
        "print(f\"Mapped values for service:\\n{df['service'].unique()}\")"
      ],
      "metadata": {
        "id": "TnEJTnTmpwbF",
        "colab": {
          "base_uri": "https://localhost:8080/"
        },
        "outputId": "60a21f78-7cb0-4c4c-e9f3-5d4865341d2f"
      },
      "execution_count": 38,
      "outputs": [
        {
          "output_type": "stream",
          "name": "stdout",
          "text": [
            "Mapped values for service:\n",
            "[ 0  1  2  3  4  5  6  7  8  9 10 11 12 13 14 15 16 17 18 19 20 21 22 23\n",
            " 24 25 26 27 28 29 30 31 32 33 34 35 36 37 38 39 40 41 42 43 44 45 46 47\n",
            " 48 49 50 51 52 53 54 55 56 57 58 59 60 61 62 63 64 65]\n"
          ]
        }
      ]
    },
    {
      "cell_type": "markdown",
      "source": [
        "### Correlation\n",
        "\n",
        "We look at all the columns correlation in order to remove the columns with the most correlated ones"
      ],
      "metadata": {
        "id": "7S4EgosSULv_"
      }
    },
    {
      "cell_type": "code",
      "source": [
        "fig, ax = plt.subplots(figsize=(15,15))       \n",
        "sns.heatmap(df.corr(), ax=ax)"
      ],
      "metadata": {
        "id": "vQA3OnZxUOVx",
        "colab": {
          "base_uri": "https://localhost:8080/",
          "height": 1000
        },
        "outputId": "8e70c041-4634-418b-e5d5-a60096cd3769"
      },
      "execution_count": 39,
      "outputs": [
        {
          "output_type": "execute_result",
          "data": {
            "text/plain": [
              "<matplotlib.axes._subplots.AxesSubplot at 0x7fc6a94a6850>"
            ]
          },
          "metadata": {},
          "execution_count": 39
        },
        {
          "output_type": "display_data",
          "data": {
            "text/plain": [
              "<Figure size 1080x1080 with 2 Axes>"
            ],
            "image/png": "[encoded data removed]"
          },
          "metadata": {
            "needs_background": "light"
          }
        }
      ]
    },
    {
      "cell_type": "code",
      "source": [
        "# The column rerror_rate is very correlated to dst_host_srv_serror_rate, dst_host_serror_rate.\n",
        "\n",
        "#dst_host_serror_rate, dst_host_rerror_rate, dst_host_srv_count and same_srv_rate are all correlated. \n",
        "# We can remove all but one\n",
        "df.drop('dst_host_serror_rate',axis = 1, inplace=True)\n",
        "df.drop('dst_host_srv_serror_rate',axis = 1, inplace=True)\n",
        "\n",
        "# The column srv_rerror_rate is very correlated to dst_host_srv_rerror_rate, dst_host_srv_serror_rate.\n",
        "df.drop('dst_host_srv_rerror_rate',axis = 1, inplace=True)\n",
        "df.drop('dst_host_rerror_rate',axis = 1, inplace=True)\n",
        "\n",
        "# The columns lnum_compromised and lnum_root count, dst_host_rerror_rate and dst_host_srv_rerror_rate,\n",
        "# dst_host_serror_rate and dst_host_srv_serror_rate, rerror_rate and srv_rerror_rate, serror_rate and srv_serror_rate,\n",
        "# count and dst_host_same_src_port_rate, dst_host_srv_count and dst_host_same_srv_count,  are very correlated\n",
        "df.drop('lnum_root',axis = 1, inplace=True)\n",
        "df.drop('srv_count',axis = 1, inplace=True)\n",
        "df.drop('srv_rerror_rate',axis = 1, inplace=True)\n",
        "df.drop('srv_serror_rate',axis = 1, inplace=True)\n",
        "df.drop('dst_host_same_srv_rate',axis = 1, inplace=True)\n",
        "df.drop('dst_host_same_src_port_rate',axis = 1, inplace=True)"
      ],
      "metadata": {
        "id": "bkIbdwaiV90k"
      },
      "execution_count": 40,
      "outputs": []
    },
    {
      "cell_type": "markdown",
      "source": [
        "### Train-test split"
      ],
      "metadata": {
        "id": "hb5d-13mUQ5l"
      }
    },
    {
      "cell_type": "code",
      "source": [
        "from sklearn.model_selection import train_test_split\n",
        "\n",
        "X_train, X_test, y_train, y_test = train_test_split(df.drop(\"label\", axis=1),\n",
        "                                                    df[\"label\"],\n",
        "                                                    test_size=0.25,\n",
        "                                                    random_state=101)\n",
        "\n",
        "print(f\"Shape of training dataset: {X_train.shape}\")\n",
        "print(f\"Shape of testing dataset: {X_test.shape}\")"
      ],
      "metadata": {
        "id": "I282uAa-eq-h",
        "colab": {
          "base_uri": "https://localhost:8080/"
        },
        "outputId": "cccc8579-ca7d-41d1-c433-787455762c02"
      },
      "execution_count": 41,
      "outputs": [
        {
          "output_type": "stream",
          "name": "stdout",
          "text": [
            "Shape of training dataset: (370515, 31)\n",
            "Shape of testing dataset: (123505, 31)\n"
          ]
        }
      ]
    },
    {
      "cell_type": "markdown",
      "source": [
        "Since some of the attack type have very few rows, we will check the proportions of labels in each dataset."
      ],
      "metadata": {
        "id": "Qdk6leYXfWT0"
      }
    },
    {
      "cell_type": "code",
      "source": [
        "# checking label proportions\n",
        "print(f\"Labels in the training data: \\n{y_train.value_counts() / y_train.shape[0]}\\n\")\n",
        "print(f\"Labels in the testing data: \\n{y_test.value_counts() / y_test.shape[0]}\")"
      ],
      "metadata": {
        "id": "Rv_W26MLfrlM",
        "colab": {
          "base_uri": "https://localhost:8080/"
        },
        "outputId": "f094d9b5-5778-40b1-cdbf-2ce065d31a6e"
      },
      "execution_count": 42,
      "outputs": [
        {
          "output_type": "stream",
          "name": "stdout",
          "text": [
            "Labels in the training data: \n",
            "dos       0.792902\n",
            "normal    0.196470\n",
            "probe     0.008234\n",
            "r2l       0.002286\n",
            "u2r       0.000108\n",
            "Name: label, dtype: float64\n",
            "\n",
            "Labels in the testing data: \n",
            "dos       0.790867\n",
            "normal    0.198227\n",
            "probe     0.008550\n",
            "r2l       0.002259\n",
            "u2r       0.000097\n",
            "Name: label, dtype: float64\n"
          ]
        }
      ]
    },
    {
      "cell_type": "markdown",
      "source": [
        "We have the same proportions of each label in both datasets, we can now save them to use in the classification notebooks.\n",
        "\n",
        "Since we will use different classification algorithms, the scaling is not included in this preprocessing notebook, to use an appropriate scaling algorithm for each classification."
      ],
      "metadata": {
        "id": "LWVylj9tfsOg"
      }
    },
    {
      "cell_type": "markdown",
      "source": [
        "### Sampled versions\n",
        "\n",
        "Since the dataset has a lot of rows, we can use a sampled version to reduce training time in some of the algorithms."
      ],
      "metadata": {
        "id": "BkZNHxksO-sO"
      }
    },
    {
      "cell_type": "code",
      "source": [
        "sampled_df = df.sample(n=100_000)\n",
        "X_train_sampled, X_test_sampled, y_train_sampled, y_test_sampled = train_test_split(sampled_df.drop(\"label\", axis=1),\n",
        "                                                                                    sampled_df[\"label\"],\n",
        "                                                                                    test_size=0.25,\n",
        "                                                                                    random_state=101)"
      ],
      "metadata": {
        "id": "gRVeLPblPaM8"
      },
      "execution_count": 43,
      "outputs": []
    },
    {
      "cell_type": "markdown",
      "source": [
        "Testing proportions of labels:"
      ],
      "metadata": {
        "id": "UvDP_oq6QGtf"
      }
    },
    {
      "cell_type": "code",
      "source": [
        "print(f\"Label support in the sampled dataset: \\n{sampled_df['label'].value_counts() / sampled_df.shape[0]}\")\n",
        "print(f\"Label support in the sampled dataset: \\n{y_train_sampled.value_counts() / y_train_sampled.shape[0]}\")\n",
        "print(f\"Label support in the sampled dataset: \\n{y_test_sampled.value_counts() / y_test_sampled.shape[0]}\")"
      ],
      "metadata": {
        "id": "h7E88JVOQGVb",
        "colab": {
          "base_uri": "https://localhost:8080/"
        },
        "outputId": "b6b9b26a-1b79-4d87-cd27-109f260e305f"
      },
      "execution_count": 44,
      "outputs": [
        {
          "output_type": "stream",
          "name": "stdout",
          "text": [
            "Label support in the sampled dataset: \n",
            "dos       0.79181\n",
            "normal    0.19721\n",
            "probe     0.00855\n",
            "r2l       0.00234\n",
            "u2r       0.00009\n",
            "Name: label, dtype: float64\n",
            "Label support in the sampled dataset: \n",
            "dos       0.792227\n",
            "normal    0.196827\n",
            "probe     0.008533\n",
            "r2l       0.002333\n",
            "u2r       0.000080\n",
            "Name: label, dtype: float64\n",
            "Label support in the sampled dataset: \n",
            "dos       0.79056\n",
            "normal    0.19836\n",
            "probe     0.00860\n",
            "r2l       0.00236\n",
            "u2r       0.00012\n",
            "Name: label, dtype: float64\n"
          ]
        }
      ]
    },
    {
      "cell_type": "markdown",
      "source": [
        "### Exporting datasets"
      ],
      "metadata": {
        "id": "oda_AQKVPYAU"
      }
    },
    {
      "cell_type": "code",
      "source": [
        "# saving datasets\n",
        "X_train.to_csv(\"kdd99_training_data.csv\")\n",
        "X_test.to_csv(\"kdd99_testing_data.csv\")\n",
        "y_train.to_csv(\"kdd99_training_labels.csv\")\n",
        "y_test.to_csv(\"kdd99_testing_labels.csv\")\n",
        "\n",
        "X_train_sampled.to_csv(\"sampled_kdd99_training_data.csv\")\n",
        "X_test_sampled.to_csv(\"sampled_kdd99_testing_data.csv\")\n",
        "y_train_sampled.to_csv(\"sampled_kdd99_training_labels.csv\")\n",
        "y_test_sampled.to_csv(\"sampled_kdd99_testing_labels.csv\")"
      ],
      "metadata": {
        "id": "FSyQyLDAgpbI"
      },
      "execution_count": 45,
      "outputs": []
    }
  ]
}