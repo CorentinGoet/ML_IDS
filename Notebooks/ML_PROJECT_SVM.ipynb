{
  "nbformat": 4,
  "nbformat_minor": 0,
  "metadata": {
    "colab": {
      "provenance": []
    },
    "kernelspec": {
      "name": "python3",
      "display_name": "Python 3"
    },
    "language_info": {
      "name": "python"
    }
  },
  "cells": [
    {
      "cell_type": "markdown",
      "source": [
        "# CSCI 4155 Machine Learning - Group Project\n",
        "\n",
        "---\n",
        "Group 13:\n",
        "- [Corentin Goetghebeur](cr453043@dal.ca) - B00945496\n",
        "- [Gabriel Marchand](gb614643@dal.ca) - B00929349\n",
        "- [Rinchen Toh](rn835427@dal.ca) - B00944448\n",
        "---\n",
        "\n",
        "This notebook is part of a group project taking place during the fall semester of 2022 in the CSCI 4155 Machine Learning class in Dalhousie University (NS, Canada).\n",
        "\n",
        "This project aims to compare different machine learning algorithms to detect network intrusions using the KDD Cup'99 dataset.\n",
        "\n",
        "---\n",
        "\n",
        "This notebook contains the classification using the Support Vector Machine algorithm."
      ],
      "metadata": {
        "id": "iv8xaPIRcQg8"
      }
    },
    {
      "cell_type": "markdown",
      "source": [
        "# Support Vector Machine"
      ],
      "metadata": {
        "id": "BcDX25cncjxb"
      }
    },
    {
      "cell_type": "markdown",
      "source": [],
      "metadata": {
        "id": "pSvkz8p1BhVy"
      }
    },
    {
      "cell_type": "code",
      "execution_count": 1,
      "metadata": {
        "id": "MDjSmBfjcL9g"
      },
      "outputs": [],
      "source": [
        "# Importing libraries\n",
        "\n",
        "import numpy as np\n",
        "import matplotlib.pyplot as plt\n",
        "import pandas as pd\n",
        "import seaborn as sns\n",
        "%matplotlib inline"
      ]
    },
    {
      "cell_type": "markdown",
      "source": [
        "## Loading datasets\n",
        "\n",
        "The dataset has already been processed and split in the preprocessing notebook."
      ],
      "metadata": {
        "id": "hGP83AcQdSNT"
      }
    },
    {
      "cell_type": "code",
      "source": [
        "X_train = pd.read_csv(\"kdd99_training_data.csv\")\n",
        "X_test = pd.read_csv(\"kdd99_testing_data.csv\")\n",
        "y_train = pd.read_csv(\"kdd99_training_labels.csv\")\n",
        "y_test = pd.read_csv(\"kdd99_testing_labels.csv\")"
      ],
      "metadata": {
        "id": "tTra3mwnYVmx"
      },
      "execution_count": 5,
      "outputs": []
    },
    {
      "cell_type": "code",
      "source": [
        "print(f\"Training dataset shape: {X_train.shape}\")\n",
        "print(f\"Testing dataset shape: {X_test.shape}\")\n",
        "\n",
        "print(f\"Training labels: {y_train.shape}\")\n",
        "print(f\"Testing labels: {y_test.shape}\")"
      ],
      "metadata": {
        "colab": {
          "base_uri": "https://localhost:8080/"
        },
        "id": "vpNpE_GWi59A",
        "outputId": "4c7a9e03-9e7a-4409-f43d-1be48fbba6b2"
      },
      "execution_count": 7,
      "outputs": [
        {
          "output_type": "stream",
          "name": "stdout",
          "text": [
            "Training dataset shape: (370515, 32)\n",
            "Testing dataset shape: (123505, 32)\n",
            "Training labels: (370515,)\n",
            "Testing labels: (123505,)\n"
          ]
        }
      ]
    },
    {
      "cell_type": "code",
      "source": [
        "y_train = y_train['label']\n",
        "y_test = y_test['label']"
      ],
      "metadata": {
        "id": "Yi0UknFi4Szh"
      },
      "execution_count": 6,
      "outputs": []
    },
    {
      "cell_type": "code",
      "source": [
        "print(y_train.unique())"
      ],
      "metadata": {
        "colab": {
          "base_uri": "https://localhost:8080/"
        },
        "id": "DvGaIVIBmOuj",
        "outputId": "9d4a7e50-ce3f-43d5-c365-8922ffa2187e"
      },
      "execution_count": 8,
      "outputs": [
        {
          "output_type": "stream",
          "name": "stdout",
          "text": [
            "['normal' 'dos' 'r2l' 'probe' 'u2r']\n"
          ]
        }
      ]
    },
    {
      "cell_type": "markdown",
      "source": [
        "## Scaling"
      ],
      "metadata": {
        "id": "ox5ZteDxY77S"
      }
    },
    {
      "cell_type": "code",
      "source": [
        "# scaling\n",
        "from sklearn.preprocessing import MinMaxScaler\n",
        "\n",
        "scaler = MinMaxScaler()\n",
        "X_train = scaler.fit_transform(X_train)\n",
        "X_test = scaler.transform(X_test)"
      ],
      "metadata": {
        "id": "BePD_3TqY_lk"
      },
      "execution_count": 9,
      "outputs": []
    },
    {
      "cell_type": "markdown",
      "source": [
        "## Model Training"
      ],
      "metadata": {
        "id": "CUhgstwO1Swm"
      }
    },
    {
      "cell_type": "code",
      "source": [
        "# training\n",
        "from sklearn.svm import SVC \n",
        "\n",
        "model = SVC()\n",
        "model.fit(X_train, y_train)"
      ],
      "metadata": {
        "id": "ogvB_hBH1wLY",
        "colab": {
          "base_uri": "https://localhost:8080/"
        },
        "outputId": "28d9403c-6cfc-45ba-cb3c-0ee1ca874fec"
      },
      "execution_count": 10,
      "outputs": [
        {
          "output_type": "execute_result",
          "data": {
            "text/plain": [
              "SVC()"
            ]
          },
          "metadata": {},
          "execution_count": 10
        }
      ]
    },
    {
      "cell_type": "code",
      "source": [
        "print(f\"Training score: {model.score(X_train, y_train)}\")\n",
        "print(f\"Testing score: {model.score(X_test, y_test)}\")"
      ],
      "metadata": {
        "id": "1Bl2GkOYjTA2",
        "colab": {
          "base_uri": "https://localhost:8080/"
        },
        "outputId": "b75bd861-1e89-40c2-e806-22e16a081bcc"
      },
      "execution_count": 11,
      "outputs": [
        {
          "output_type": "stream",
          "name": "stdout",
          "text": [
            "Training score: 0.9990445730942067\n",
            "Testing score: 0.9989717015505445\n"
          ]
        }
      ]
    },
    {
      "cell_type": "code",
      "source": [
        "y_predicted = model.predict(X_test)"
      ],
      "metadata": {
        "id": "eZMkf89u2FKu"
      },
      "execution_count": 12,
      "outputs": []
    },
    {
      "cell_type": "markdown",
      "source": [],
      "metadata": {
        "id": "rlvELiO4ZB13"
      }
    },
    {
      "cell_type": "markdown",
      "source": [
        "## Model Evaluation"
      ],
      "metadata": {
        "id": "sx9VKPP44e_P"
      }
    },
    {
      "cell_type": "code",
      "source": [
        "from sklearn.metrics import confusion_matrix, classification_report\n",
        "\n",
        "conf_matrix = confusion_matrix(y_test, y_predicted)\n",
        "report = classification_report(y_test, y_predicted)\n",
        "\n",
        "print(report)"
      ],
      "metadata": {
        "id": "fGpyvr0a4tCX",
        "colab": {
          "base_uri": "https://localhost:8080/"
        },
        "outputId": "b56940b5-eccd-4db5-96ef-dea746b76806"
      },
      "execution_count": 13,
      "outputs": [
        {
          "output_type": "stream",
          "name": "stdout",
          "text": [
            "              precision    recall  f1-score   support\n",
            "\n",
            "         dos       1.00      1.00      1.00     97676\n",
            "      normal       1.00      1.00      1.00     24482\n",
            "       probe       0.99      0.97      0.98      1056\n",
            "         r2l       0.94      0.86      0.90       279\n",
            "         u2r       0.82      0.75      0.78        12\n",
            "\n",
            "    accuracy                           1.00    123505\n",
            "   macro avg       0.95      0.92      0.93    123505\n",
            "weighted avg       1.00      1.00      1.00    123505\n",
            "\n"
          ]
        }
      ]
    },
    {
      "cell_type": "code",
      "source": [
        "# building annotations\n",
        "y_labels = ['dos', 'normal', 'probe', 'r2l', 'u2r']\n",
        "labels = []\n",
        "for i in range(5):\n",
        "  for j in range(5):\n",
        "    labels.append(str(f\"Real {y_labels[i]}\\nPredicted {y_labels[j]}\\n{conf_matrix[i, j]}\"))\n",
        "\n",
        "labels = np.asarray(labels).reshape(5, 5)"
      ],
      "metadata": {
        "id": "56vS4hhqof-j"
      },
      "execution_count": 14,
      "outputs": []
    },
    {
      "cell_type": "code",
      "source": [
        "# confusion matrix visualization\n",
        "\n",
        "plt.figure(figsize=(12, 8))\n",
        "plt.title(\"Confusion Matrix\")\n",
        "sns.heatmap(conf_matrix, annot=labels, cmap='crest', fmt='')\n",
        "plt.show()"
      ],
      "metadata": {
        "id": "5iG-aJEx49yg",
        "colab": {
          "base_uri": "https://localhost:8080/",
          "height": 499
        },
        "outputId": "6395161a-8736-4fbb-8960-9043bc48bf53"
      },
      "execution_count": 15,
      "outputs": [
        {
          "output_type": "display_data",
          "data": {
            "text/plain": [
              "<Figure size 864x576 with 2 Axes>"
            ],
            "image/png": "[encoded data removed]"
          },
          "metadata": {
            "needs_background": "light"
          }
        }
      ]
    },
    {
      "cell_type": "markdown",
      "source": [
        "**Reminder on label proportions:**"
      ],
      "metadata": {
        "id": "kGhburP9r2C0"
      }
    },
    {
      "cell_type": "code",
      "source": [
        "plt.figure(figsize=(8,6))\n",
        "plt.title(\"Support for each label\")\n",
        "sns.countplot(y_test, )\n",
        "plt.show()\n",
        "\n",
        "print(f\"\\n{y_test.value_counts() / y_test.shape[0]}\\n\\n{y_test.value_counts()}\")"
      ],
      "metadata": {
        "id": "z2dpBjm3r0L1",
        "colab": {
          "base_uri": "https://localhost:8080/",
          "height": 702
        },
        "outputId": "3c759961-94f4-4433-cfb8-8dadadc3a5a1"
      },
      "execution_count": 17,
      "outputs": [
        {
          "output_type": "stream",
          "name": "stderr",
          "text": [
            "/usr/local/lib/python3.8/dist-packages/seaborn/_decorators.py:36: FutureWarning: Pass the following variable as a keyword arg: x. From version 0.12, the only valid positional argument will be `data`, and passing other arguments without an explicit keyword will result in an error or misinterpretation.\n",
            "  warnings.warn(\n"
          ]
        },
        {
          "output_type": "display_data",
          "data": {
            "text/plain": [
              "<Figure size 576x432 with 1 Axes>"
            ],
            "image/png": "[encoded data removed]"
          },
          "metadata": {
            "needs_background": "light"
          }
        },
        {
          "output_type": "stream",
          "name": "stdout",
          "text": [
            "\n",
            "dos       0.790867\n",
            "normal    0.198227\n",
            "probe     0.008550\n",
            "r2l       0.002259\n",
            "u2r       0.000097\n",
            "Name: label, dtype: float64\n",
            "\n",
            "dos       97676\n",
            "normal    24482\n",
            "probe      1056\n",
            "r2l         279\n",
            "u2r          12\n",
            "Name: label, dtype: int64\n"
          ]
        }
      ]
    },
    {
      "cell_type": "markdown",
      "source": [
        "## Conclusion\n",
        "\n",
        "Excellent overall prediction results:\n",
        "- 1.00 accuracy\n",
        "- 1.00 precision weighted avg\n",
        "- 1.00 recall weighted avg\n",
        "- 1.00 f1-score weighted avg\n",
        "\n",
        "Good results on the recall of R2L and U2R (resp. 86% and 75%).\n"
      ],
      "metadata": {
        "id": "6f6-pQ_LrFmA"
      }
    }
  ]
}