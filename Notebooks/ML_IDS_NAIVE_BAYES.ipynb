{
  "nbformat": 4,
  "nbformat_minor": 0,
  "metadata": {
    "colab": {
      "provenance": []
    },
    "kernelspec": {
      "name": "python3",
      "display_name": "Python 3"
    },
    "language_info": {
      "name": "python"
    }
  },
  "cells": [
    {
      "cell_type": "markdown",
      "source": [
        "# CSCI 4155 Machine Learning - Group Project\n",
        "\n",
        "---\n",
        "Group 13:\n",
        "- [Corentin Goetghebeur](cr453043@dal.ca) - B00945496\n",
        "- [Gabriel Marchand](gb614643@dal.ca) - B00929349\n",
        "- [Rinchen Toh](rn835427@dal.ca) - B00944448\n",
        "---\n",
        "\n",
        "This notebook is part of a group project taking place during the fall semester of 2022 in the CSCI 4155 Machine Learning class in Dalhousie University (NS, Canada).\n",
        "\n",
        "This project aims to compare different machine learning algorithms to detect network intrusions using the KDD Cup'99 dataset.\n",
        "\n",
        "---\n",
        "\n",
        "This notebook contains the classification using the Naive Bayes algorithm."
      ],
      "metadata": {
        "id": "iv8xaPIRcQg8"
      }
    },
    {
      "cell_type": "markdown",
      "source": [
        "# Naive Bayes"
      ],
      "metadata": {
        "id": "BcDX25cncjxb"
      }
    },
    {
      "cell_type": "code",
      "execution_count": null,
      "metadata": {
        "id": "MDjSmBfjcL9g"
      },
      "outputs": [],
      "source": [
        "# Importing libraries\n",
        "\n",
        "import numpy as np\n",
        "import matplotlib.pyplot as plt\n",
        "import pandas as pd\n",
        "import seaborn as sns"
      ]
    },
    {
      "cell_type": "markdown",
      "source": [
        "## Loading datasets\n",
        "\n",
        "The dataset has already been processed and split in the preprocessing notebook."
      ],
      "metadata": {
        "id": "hGP83AcQdSNT"
      }
    },
    {
      "cell_type": "code",
      "source": [
        "# loading datasets\n",
        "X_train = pd.read_csv(\"kdd99_training_data.csv\")\n",
        "X_test = pd.read_csv(\"kdd99_testing_data.csv\")\n",
        "y_train = pd.read_csv(\"kdd99_training_labels.csv\")\n",
        "y_test = pd.read_csv(\"kdd99_testing_labels.csv\")"
      ],
      "metadata": {
        "id": "jq8BYYBedRzb"
      },
      "execution_count": null,
      "outputs": []
    },
    {
      "cell_type": "code",
      "source": [
        "print(f\"Training dataset shape: {X_train.shape}\")\n",
        "print(f\"Testing dataset shape: {X_test.shape}\")\n",
        "\n",
        "print(f\"Training labels: {y_train.shape}\")\n",
        "print(f\"Testing labels: {y_test.shape}\")"
      ],
      "metadata": {
        "colab": {
          "base_uri": "https://localhost:8080/"
        },
        "id": "vpNpE_GWi59A",
        "outputId": "027036aa-01ac-48f9-9cd4-3aa759b87073"
      },
      "execution_count": null,
      "outputs": [
        {
          "output_type": "stream",
          "name": "stdout",
          "text": [
            "Training dataset shape: (370515, 32)\n",
            "Testing dataset shape: (123505, 32)\n",
            "Training labels: (370515, 2)\n",
            "Testing labels: (123505, 2)\n"
          ]
        }
      ]
    },
    {
      "cell_type": "code",
      "source": [
        "y_train = y_train['label']\n",
        "y_test = y_test['label']"
      ],
      "metadata": {
        "id": "Yi0UknFi4Szh"
      },
      "execution_count": null,
      "outputs": []
    },
    {
      "cell_type": "code",
      "source": [
        "print(f\"Labels: {y_train.unique()}\")"
      ],
      "metadata": {
        "colab": {
          "base_uri": "https://localhost:8080/"
        },
        "id": "DvGaIVIBmOuj",
        "outputId": "1e3b1814-7b39-426e-d87d-ba1ad919ce03"
      },
      "execution_count": null,
      "outputs": [
        {
          "output_type": "stream",
          "name": "stdout",
          "text": [
            "['normal' 'dos' 'r2l' 'probe' 'u2r']\n"
          ]
        }
      ]
    },
    {
      "cell_type": "markdown",
      "source": [
        "## Scaling\n",
        "\n",
        "To use the Naive Bayes algorithm, we will scale the training and testing dataset using a `MinMaxScaler`."
      ],
      "metadata": {
        "id": "3aZ_-YFbjumg"
      }
    },
    {
      "cell_type": "code",
      "source": [
        "# scaling\n",
        "from sklearn.preprocessing import MinMaxScaler\n",
        "\n",
        "scaler = MinMaxScaler()\n",
        "X_train = scaler.fit_transform(X_train)\n",
        "X_test = scaler.transform(X_test)"
      ],
      "metadata": {
        "id": "T_F9RNgQz5Dc"
      },
      "execution_count": null,
      "outputs": []
    },
    {
      "cell_type": "markdown",
      "source": [
        "## Model Training"
      ],
      "metadata": {
        "id": "CUhgstwO1Swm"
      }
    },
    {
      "cell_type": "code",
      "source": [
        "# training\n",
        "from sklearn.naive_bayes import GaussianNB\n",
        "\n",
        "model = GaussianNB()\n",
        "model.fit(X_train, y_train)"
      ],
      "metadata": {
        "colab": {
          "base_uri": "https://localhost:8080/"
        },
        "id": "ogvB_hBH1wLY",
        "outputId": "a0d94a44-7dce-487e-cf6d-0b5c2b274ed4"
      },
      "execution_count": null,
      "outputs": [
        {
          "output_type": "execute_result",
          "data": {
            "text/plain": [
              "GaussianNB()"
            ]
          },
          "metadata": {},
          "execution_count": 8
        }
      ]
    },
    {
      "cell_type": "code",
      "source": [
        "print(f\"Training score: {model.score(X_train, y_train)}\")\n",
        "print(f\"Testing score: {model.score(X_test, y_test)}\")"
      ],
      "metadata": {
        "colab": {
          "base_uri": "https://localhost:8080/"
        },
        "id": "1Bl2GkOYjTA2",
        "outputId": "7cae1e14-ef99-4669-d80b-6d0741ff52c9"
      },
      "execution_count": null,
      "outputs": [
        {
          "output_type": "stream",
          "name": "stdout",
          "text": [
            "Training score: 0.928710038729876\n",
            "Testing score: 0.9275818792761427\n"
          ]
        }
      ]
    },
    {
      "cell_type": "code",
      "source": [
        "y_predicted = model.predict(X_test)"
      ],
      "metadata": {
        "id": "eZMkf89u2FKu"
      },
      "execution_count": null,
      "outputs": []
    },
    {
      "cell_type": "markdown",
      "source": [
        "## Model Evaluation"
      ],
      "metadata": {
        "id": "sx9VKPP44e_P"
      }
    },
    {
      "cell_type": "code",
      "source": [
        "from sklearn.metrics import confusion_matrix, classification_report\n",
        "\n",
        "conf_matrix = confusion_matrix(y_test, y_predicted)\n",
        "report = classification_report(y_test, y_predicted)\n",
        "\n",
        "print(report)"
      ],
      "metadata": {
        "colab": {
          "base_uri": "https://localhost:8080/"
        },
        "id": "fGpyvr0a4tCX",
        "outputId": "4794a1f3-c691-431c-d487-713a5945dc07"
      },
      "execution_count": null,
      "outputs": [
        {
          "output_type": "stream",
          "name": "stdout",
          "text": [
            "              precision    recall  f1-score   support\n",
            "\n",
            "         dos       0.98      0.99      0.98     97676\n",
            "      normal       0.97      0.69      0.81     24482\n",
            "       probe       0.16      0.99      0.28      1056\n",
            "         r2l       0.43      0.44      0.43       279\n",
            "         u2r       0.02      0.83      0.03        12\n",
            "\n",
            "    accuracy                           0.93    123505\n",
            "   macro avg       0.51      0.79      0.51    123505\n",
            "weighted avg       0.97      0.93      0.94    123505\n",
            "\n"
          ]
        }
      ]
    },
    {
      "cell_type": "code",
      "source": [
        "# building annotations\n",
        "y_labels = ['dos', 'normal', 'probe', 'r2l', 'u2r']\n",
        "labels = []\n",
        "for i in range(5):\n",
        "  for j in range(5):\n",
        "    labels.append(str(f\"Real {y_labels[i]}\\nPredicted {y_labels[j]}\\n{conf_matrix[i, j]}\"))\n",
        "\n",
        "labels = np.asarray(labels).reshape(5, 5)"
      ],
      "metadata": {
        "id": "56vS4hhqof-j"
      },
      "execution_count": null,
      "outputs": []
    },
    {
      "cell_type": "code",
      "source": [
        "# confusion matrix visualization\n",
        "\n",
        "plt.figure(figsize=(12, 8))\n",
        "plt.title(\"Confusion Matrix\")\n",
        "sns.heatmap(conf_matrix, annot=labels, cmap='crest', fmt='')\n",
        "plt.show()"
      ],
      "metadata": {
        "colab": {
          "base_uri": "https://localhost:8080/",
          "height": 499
        },
        "id": "5iG-aJEx49yg",
        "outputId": "2e1256bc-59c4-41b0-9b64-b781aa479d9a"
      },
      "execution_count": null,
      "outputs": [
        {
          "output_type": "display_data",
          "data": {
            "text/plain": [
              "<Figure size 864x576 with 2 Axes>"
            ],
            "image/png": "[encoded data removed]"
          },
          "metadata": {
            "needs_background": "light"
          }
        }
      ]
    },
    {
      "cell_type": "markdown",
      "source": [
        "**Reminder on label proportions:**"
      ],
      "metadata": {
        "id": "kGhburP9r2C0"
      }
    },
    {
      "cell_type": "code",
      "source": [
        "plt.figure()\n",
        "plt.title(\"Support for each label\")\n",
        "sns.countplot(y_test)\n",
        "plt.show()\n",
        "\n",
        "print(f\"\\n{y_test.value_counts() / y_test.shape[0]}\\n\\n{y_test.value_counts()}\")"
      ],
      "metadata": {
        "colab": {
          "base_uri": "https://localhost:8080/",
          "height": 593
        },
        "id": "z2dpBjm3r0L1",
        "outputId": "c8d8c565-db5d-4839-c8c7-401e1c6a3b55"
      },
      "execution_count": null,
      "outputs": [
        {
          "output_type": "stream",
          "name": "stderr",
          "text": [
            "/usr/local/lib/python3.8/dist-packages/seaborn/_decorators.py:36: FutureWarning: Pass the following variable as a keyword arg: x. From version 0.12, the only valid positional argument will be `data`, and passing other arguments without an explicit keyword will result in an error or misinterpretation.\n",
            "  warnings.warn(\n"
          ]
        },
        {
          "output_type": "display_data",
          "data": {
            "text/plain": [
              "<Figure size 432x288 with 1 Axes>"
            ],
            "image/png": "[encoded data removed]"
          },
          "metadata": {
            "needs_background": "light"
          }
        },
        {
          "output_type": "stream",
          "name": "stdout",
          "text": [
            "\n",
            "dos       0.790867\n",
            "normal    0.198227\n",
            "probe     0.008550\n",
            "r2l       0.002259\n",
            "u2r       0.000097\n",
            "Name: label, dtype: float64\n",
            "\n",
            "dos       97676\n",
            "normal    24482\n",
            "probe      1056\n",
            "r2l         279\n",
            "u2r          12\n",
            "Name: label, dtype: int64\n"
          ]
        }
      ]
    },
    {
      "cell_type": "markdown",
      "source": [
        "## Conclusion\n",
        "\n",
        "Overall, the model has a good accuracy (93%), but the results can vary depending on the label since they have very different support.\n",
        "\n",
        "The DOS attack has the best results in all metrics. This makes sense because it has the biggest support (around 80% of all rows).\n",
        "\n",
        "The normal label has a good precision but a lower recall, this means most of the predicted normal are normal but some of the normal are predicted as attacks (mostly r2l and dos according to the confusion matrix).\n",
        "\n",
        "The probe label has a very good recall (99%) but a terrible precision (16%). This means nearly all actual probes were detected but a lot of other labels were classified as probe. \n",
        "\n",
        "The r2l label has low precision and recall.\n",
        "\n",
        "The u2r label has very low precision (2%) but a good recall (83%).\n",
        "\n",
        "---\n",
        "\n",
        "The low precision on the last 3 labels is strongly impacted by the drastic difference of support. For example, 406 normal flags were predicted as u2r. This is very low compared to the over 24,000 normal entries but it is nearly 40 times the number of u2r labels.\n",
        "\n",
        "For this reason, I believe recall is the best metric to use on this dataset.\n",
        "\n",
        "On a cybersecurity point of view, all the dangerous entries should be identified. To identify all the dangerous connections, the model must have a good recall on the attacks, especially on the U2R, R2L and Probe attacks (the DOS are only dangerous because of their number).\n",
        "\n",
        "If the model is to be used on an IPS (blocking traffic) instead of an IDS (only monitoring), the availability has to be taken into account as well (normal user should not be blocked) and a good recall on the 'normal' label is needed as well.\n"
      ],
      "metadata": {
        "id": "6f6-pQ_LrFmA"
      }
    }
  ]
}